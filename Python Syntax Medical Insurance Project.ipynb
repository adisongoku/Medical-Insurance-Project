{
 "cells": [
  {
   "cell_type": "markdown",
   "id": "7ac921d1",
   "metadata": {},
   "source": [
    "# Python Syntax: Medical Insurance Project"
   ]
  },
  {
   "cell_type": "markdown",
   "id": "84c02393",
   "metadata": {},
   "source": [
    "Suppose you are a medical professional curious about how certain factors contribute to medical insurance costs. Using a formula that estimates a person's yearly insurance costs, you will investigate how different factors such as age, sex, BMI, etc. affect the prediction."
   ]
  },
  {
   "cell_type": "markdown",
   "id": "05392afb",
   "metadata": {},
   "source": [
    "## Setting up Factors"
   ]
  },
  {
   "cell_type": "markdown",
   "id": "e433bd9f",
   "metadata": {},
   "source": [
    "1. Our first step is to create the variables for each factor we will consider when estimating medical insurance costs.\n",
    "\n",
    "   These are the variables we will need to create:\n",
    "   - `age`: age of the individual in years\n",
    "   - `sex`: 0 for female, 1 for male*\n",
    "   - `bmi`: individual's body mass index\n",
    "   - `num_of_children`: number of children the individual has\n",
    "   - `smoker`: 0 for a non-smoker, 1 for a smoker\n",
    "   \n",
    "   In the code block below, create the following variables for a **28**-year-old, **nonsmoking woman** who has **three children** and a **BMI** of **26.2**.\n",
    "   \n",
    "   **Note**: We are using this [medical insurance dataset](https://www.kaggle.com/mirichoi0218/insurance) as a guide, which unfortunately does not include data for non-binary individuals."
   ]
  },
  {
   "cell_type": "code",
   "execution_count": 1,
   "id": "7f311028",
   "metadata": {},
   "outputs": [],
   "source": [
    "# create the initial variables below\n",
    "age = 28\n",
    "sex = 0\n",
    "bmi = 26.2\n",
    "num_of_chilren = 3\n",
    "smoker = 0\n"
   ]
  },
  {
   "cell_type": "markdown",
   "id": "2b7c2cbc",
   "metadata": {},
   "source": [
    "## Working with the Formula"
   ]
  },
  {
   "cell_type": "markdown",
   "id": "6db974a5",
   "metadata": {},
   "source": [
    "2. After the declaration of the variables, create a variable called `insurance_cost` that utilizes the following formula:\n",
    "\n",
    "   $$\n",
    "   \\begin{aligned}\n",
    "   insurance\\_cost = 250*age - 128*sex \\\\\n",
    "   + 370*bmi + 425*num\\_of\\_children \\\\\n",
    "   + 24000*smoker - 12500 \\\\\n",
    "   \\end{aligned}\n",
    "   $$"
   ]
  },
  {
   "cell_type": "code",
   "execution_count": 2,
   "id": "91f86188",
   "metadata": {},
   "outputs": [],
   "source": [
    "# Add insurance estimate formula below\n",
    "insurance_cost = 250 * age - 128 * sex + 370 * bmi + 425 * num_of_chilren + 24000 * smoker - 12500\n"
   ]
  },
  {
   "cell_type": "markdown",
   "id": "90e6bbe0",
   "metadata": {},
   "source": [
    "3. Let's display this value in an informative way. Print out the following string in the kernel:\n",
    "\n",
    "   ```\n",
    "   This person's insurance cost is {insurance_cost} dollars.\n",
    "   ```\n",
    "   \n",
    "   You will need to use string concatenation, including the `str()` function to print out the `insurance_cost`."
   ]
  },
  {
   "cell_type": "code",
   "execution_count": 3,
   "id": "cf6d3790",
   "metadata": {},
   "outputs": [
    {
     "name": "stdout",
     "output_type": "stream",
     "text": [
      "This perosn's insurance cost is: 5469.0 dollars.\n"
     ]
    }
   ],
   "source": [
    "\n",
    "print(\"This perosn's insurance cost is: \" + str(insurance_cost) + \" dollars.\")"
   ]
  },
  {
   "cell_type": "markdown",
   "id": "203e7e61",
   "metadata": {},
   "source": [
    "## Looking at Age Factor"
   ]
  },
  {
   "cell_type": "markdown",
   "id": "5c2f65d1",
   "metadata": {},
   "source": [
    "4. We have seen how our formula can estimate costs for one individual. Now let's play with some individual factors to see what role each one plays in our estimation!\n",
    "\n",
    "   Let's start with the `age` factor. Using a plus-equal operator, add 4 years to our `age` variable."
   ]
  },
  {
   "cell_type": "code",
   "execution_count": 4,
   "id": "eb23f0c0",
   "metadata": {},
   "outputs": [],
   "source": [
    "age += 4"
   ]
  },
  {
   "cell_type": "markdown",
   "id": "a18a8926",
   "metadata": {},
   "source": [
    "5. Now that we have changed our `age` value, we want to recalculate our insurance cost. Declare a new variable called `new_insurance_cost` in the code block below.\n",
    "\n",
    "   Make sure you leave the `insurance_cost` variable the same as in Task 2. We will use it later in our program!"
   ]
  },
  {
   "cell_type": "code",
   "execution_count": 5,
   "id": "50f6a44c",
   "metadata": {},
   "outputs": [
    {
     "name": "stdout",
     "output_type": "stream",
     "text": [
      "6469.0\n"
     ]
    }
   ],
   "source": [
    "new_insurance_cost = 250 * age - 128 * sex + 370 * bmi + 425 * num_of_chilren + 24000 * smoker - 12500\n",
    "print(new_insurance_cost)"
   ]
  },
  {
   "cell_type": "markdown",
   "id": "d6c2393a",
   "metadata": {},
   "source": [
    "6. Next, we want to find the difference between our `new_insurance_cost` and `insurance_cost`. To do this, let's create a new variable called `change_in_insurance_cost` and set it equal to the difference between `new_insurance_cost` and `insurance_cost`.\n",
    "\n",
    "   Note: depending on the order that we subtract (eg., `new_insurance_cost - insurance_cost` vs. `insurance_cost - new_insurance_cost`), we'll get a positive or negative version of the same number. To make this difference interpretable, let's calculate `new_insurance cost - insurance_cost`. Then we can say, \"people who are four years older have estimated insurance costs that are `change_in_insurance_cost` dollars different, where the sign of `change_in_insurance_cost` tells us whether the cost is higher or lower\"."
   ]
  },
  {
   "cell_type": "code",
   "execution_count": 7,
   "id": "6b72279c",
   "metadata": {},
   "outputs": [],
   "source": [
    "change_in_insurance_cost = new_insurance_cost - insurance_cost"
   ]
  },
  {
   "cell_type": "markdown",
   "id": "2e6df15c",
   "metadata": {},
   "source": [
    "7. We want to display this information in an informative way similar to the output from instruction 3. In the code block below, print the following string, where `XXX` is replaced by the value of `change_in_insurance_cost`:\n",
    "\n",
    "   ```\n",
    "   The change in cost of insurance after increasing the age by 4 years is XXX dollars.\n",
    "   ```\n",
    "   \n",
    "   Doing this will tell us how 4 years in age affects medical insurance cost estimates assuming that all other variables remain the same.\n",
    "   \n",
    "   You will need to concatenate strings and use the `str()` method."
   ]
  },
  {
   "cell_type": "code",
   "execution_count": 8,
   "id": "0a999d40",
   "metadata": {},
   "outputs": [
    {
     "name": "stdout",
     "output_type": "stream",
     "text": [
      "The change in cost of insurance after increasing the age by 4 years is 1000.0 dollars.\n"
     ]
    }
   ],
   "source": [
    "print(\"The change in cost of insurance after increasing the age by 4 years is \" + str(change_in_insurance_cost) + \" dollars.\")"
   ]
  },
  {
   "cell_type": "markdown",
   "id": "23bc90cf",
   "metadata": {},
   "source": [
    "## Looking at BMI Factor"
   ]
  },
  {
   "cell_type": "markdown",
   "id": "81747d10",
   "metadata": {},
   "source": [
    "8. Now that you have looked at the age factor, let's move onto another one: BMI. First, we have to redefine our `age` variable to be its original value.\n",
    "\n",
    "   Set `age` to `28`. This will reset its value and allow us to focus on just the change in the BMI factor moving forward.\n",
    "   \n",
    "   On the next line, using the plus-equal operator, add `3.1` to our `bmi` variable."
   ]
  },
  {
   "cell_type": "code",
   "execution_count": 10,
   "id": "53ea7df3",
   "metadata": {},
   "outputs": [],
   "source": [
    "age = 28\n",
    "bmi += 3.1\n"
   ]
  },
  {
   "cell_type": "markdown",
   "id": "febe2c07",
   "metadata": {},
   "source": [
    "9. Now let's find out how a change in BMI affects insurance costs. Our next steps are pretty much the same as we have done before when looking at `age`.\n",
    "   1. Below the line where `bmi` was increased by `3.1`, rewrite the insurance cost formula and assign it to the variable name `new_insurance_cost`.\n",
    "   2. Save the difference between `new_insurance_cost` and `insurance_cost` in a variable called `change_in_insurance_cost`.\n",
    "   3. Display the following string in the output terminal, where `XXX` is replaced by the value of `change_in_insurance_cost`:\n",
    "   \n",
    "   ```py\n",
    "   The change in estimated insurance cost after increasing BMI by 3.1 is XXX dollars.\n",
    "   ```"
   ]
  },
  {
   "cell_type": "code",
   "execution_count": 14,
   "id": "19d121c8",
   "metadata": {},
   "outputs": [
    {
     "name": "stdout",
     "output_type": "stream",
     "text": [
      "The change in estimated insuracne cost after increasing BMI by 3.1 is 2294.0 dollars.\n"
     ]
    }
   ],
   "source": [
    "new_insurance_cost = 250 * age - 128 * sex + 370 * bmi + 425 * num_of_chilren + 24000 * smoker - 12500\n",
    "change_in_insurance_cost = new_insurance_cost - insurance_cost\n",
    "print(\"The change in estimated insuracne cost after increasing BMI by 3.1 is \" + str(change_in_insurance_cost) + \" dollars.\")"
   ]
  },
  {
   "cell_type": "markdown",
   "id": "26c3c473",
   "metadata": {},
   "source": [
    "## Looking at Male vs. Female Factor"
   ]
  },
  {
   "cell_type": "markdown",
   "id": "e0c96041",
   "metadata": {},
   "source": [
    "10. Let's look at the effect sex has on medical insurance costs. Before we make any additional changes, first reassign your `bmi` variable back to its original value of `26.2`.\n",
    "\n",
    "    On a new line of code in the code block below, reassign the value of `sex` to `1`. A reminder that `1` identifies male individuals and `0` identifies female individuals."
   ]
  },
  {
   "cell_type": "code",
   "execution_count": 15,
   "id": "ae87bfec",
   "metadata": {},
   "outputs": [],
   "source": [
    "bmi = 26.2\n",
    "sex = 1"
   ]
  },
  {
   "cell_type": "markdown",
   "id": "da20c656",
   "metadata": {},
   "source": [
    "11. Perform the steps below!\n",
    "    1. Rewrite the insurance cost formula and assign it to the variable name `new_insurance_cost`.\n",
    "    2. Save the difference between `new_insurance_cost` and `insurance_cost` in a variable called `change_in_insurance_cost`.\n",
    "    3. Display the following string, where `XXX` is replaced by the value of `change_in_insurance_cost`:\n",
    "    ```\n",
    "    The change in estimated cost for being male instead of female is XXX dollars.\n",
    "    ```"
   ]
  },
  {
   "cell_type": "code",
   "execution_count": 16,
   "id": "ce2da0e8",
   "metadata": {},
   "outputs": [
    {
     "name": "stdout",
     "output_type": "stream",
     "text": [
      "The change in estimated insuracne cost for being male instead of female is -128.0 dollars.\n"
     ]
    }
   ],
   "source": [
    "new_insurance_cost = 250 * age - 128 * sex + 370 * bmi + 425 * num_of_chilren + 24000 * smoker - 12500\n",
    "change_in_insurance_cost = new_insurance_cost - insurance_cost\n",
    "print(\"The change in estimated insuracne cost for being male instead of female is \" + str(change_in_insurance_cost) + \" dollars.\")"
   ]
  },
  {
   "cell_type": "markdown",
   "id": "f652d964",
   "metadata": {},
   "source": [
    "12. Notice that this time you got a negative value for `change_in_insurance_cost`. Let's think about what that means. We changed the sex variable from `0` (female) to `1` (male) and it decreased the estimated insurance costs.\n",
    "\n",
    "    This means that men tend to have lower medical costs on average than women. Reflect on the other findings you have dug up from this investigation so far."
   ]
  },
  {
   "cell_type": "code",
   "execution_count": null,
   "id": "1190661d",
   "metadata": {},
   "outputs": [],
   "source": []
  },
  {
   "cell_type": "markdown",
   "id": "deae95f4",
   "metadata": {},
   "source": [
    "## Extra Practice"
   ]
  },
  {
   "cell_type": "markdown",
   "id": "2e44bb53",
   "metadata": {},
   "source": [
    "13. Great job on the project!!!\n",
    "\n",
    "    So far we have looked at 3 of the 5 factors in the insurance costs formula. The two remaining are `smoker` and `num_of_children`. If you want to keep challenging yourself, spend some time investigating these factors!\n",
    "    1. Rewrite the insurance cost formula and assign it to the variable name `new_insurance_cost`.\n",
    "    2. Save the difference between `new_insurance_cost` in a variable called `change_in_insurance_cost`.\n",
    "    3. Display the information below!"
   ]
  },
  {
   "cell_type": "code",
   "execution_count": 18,
   "id": "ee321873",
   "metadata": {},
   "outputs": [
    {
     "name": "stdout",
     "output_type": "stream",
     "text": [
      "2899.0\n"
     ]
    }
   ],
   "source": [
    "age = 22\n",
    "sex = 1\n",
    "bmi = 27.1\n",
    "num_of_chilren = 0\n",
    "smoker = 0\n",
    "\n",
    "new_insurance_cost = 250 * age - 128 * sex + 370 * bmi + 425 * num_of_chilren + 24000 * smoker - 12500\n",
    "print(new_insurance_cost)\n"
   ]
  },
  {
   "attachments": {},
   "cell_type": "markdown",
   "id": "617c389c",
   "metadata": {},
   "source": [
    "# Python Functions: Medical Insurance Project"
   ]
  },
  {
   "attachments": {},
   "cell_type": "markdown",
   "id": "343f4098",
   "metadata": {},
   "source": [
    "In this code, we estimate the medical insurance costs for two individuals, Maria and Omar, based on five variables"
   ]
  },
  {
   "cell_type": "code",
   "execution_count": 1,
   "id": "2ac31771",
   "metadata": {},
   "outputs": [],
   "source": [
    "# Initial variables for Maria \n",
    "age = 28\n",
    "sex = 0  \n",
    "bmi = 26.2\n",
    "num_of_children = 3\n",
    "smoker = 0  "
   ]
  },
  {
   "cell_type": "code",
   "execution_count": 2,
   "id": "00e64a3a",
   "metadata": {},
   "outputs": [],
   "source": [
    "# Initial variables for Omar\n",
    "age = 35\n",
    "sex = 1 \n",
    "bmi = 22.2\n",
    "num_of_children = 0\n",
    "smoker = 1  "
   ]
  },
  {
   "cell_type": "code",
   "execution_count": 3,
   "id": "5553f5b1",
   "metadata": {},
   "outputs": [],
   "source": [
    "# Estimate Maria's insurance cost\n",
    "maria_insurance_cost = 250*age - 128*sex + 370*bmi + 425*num_of_children + 24000*smoker - 12500"
   ]
  },
  {
   "cell_type": "code",
   "execution_count": 4,
   "id": "44a19439",
   "metadata": {},
   "outputs": [],
   "source": [
    "# Estimate Omar's insurance cost \n",
    "omar_insurance_cost = 250*age - 128*sex + 370*bmi + 425*num_of_children + 24000*smoker - 12500"
   ]
  },
  {
   "attachments": {},
   "cell_type": "markdown",
   "id": "6bb73c2c",
   "metadata": {},
   "source": [
    "Let’s start by defining a function called `calculate_insurance_cost()`."
   ]
  },
  {
   "cell_type": "code",
   "execution_count": 11,
   "id": "127e1710",
   "metadata": {},
   "outputs": [],
   "source": [
    "def calculate_insurance_cost(age, sex, bmi, num_of_children, smoker, name):\n",
    "\n",
    "    estimated_cost = 250*age - 128*sex + 370*bmi + 425*num_of_children + 24000*smoker - 12500\n",
    "\n",
    "    print(f\"The estimated insurance cost for {name} is {estimated_cost} dollars.\")\n",
    "\n",
    "    return estimated_cost"
   ]
  },
  {
   "attachments": {},
   "cell_type": "markdown",
   "id": "3fe68e69",
   "metadata": {},
   "source": [
    "The function is now properly set up to calculate an individual’s medical insurance costs based on the five variables passed into it. Let’s test this out!"
   ]
  },
  {
   "cell_type": "code",
   "execution_count": 12,
   "id": "a3c075bd",
   "metadata": {},
   "outputs": [
    {
     "name": "stdout",
     "output_type": "stream",
     "text": [
      "The estimated insurance cost for Maria is 5469.0 dollars.\n"
     ]
    }
   ],
   "source": [
    "maria_insurance_cost = calculate_insurance_cost(28, 0, 26.2, 3, 0, 'Maria')"
   ]
  },
  {
   "cell_type": "code",
   "execution_count": 13,
   "id": "5b59570a",
   "metadata": {},
   "outputs": [
    {
     "name": "stdout",
     "output_type": "stream",
     "text": [
      "The estimated insurance cost for Omar is 28336.0 dollars.\n"
     ]
    }
   ],
   "source": [
    "omar_insurance_cost = calculate_insurance_cost(35, 1, 22.2, 0, 1, 'Omar')"
   ]
  },
  {
   "cell_type": "code",
   "execution_count": 14,
   "id": "25e34e96",
   "metadata": {},
   "outputs": [
    {
     "name": "stdout",
     "output_type": "stream",
     "text": [
      "The estimated insurance cost for Adrian is 2899.0 dollars.\n"
     ]
    }
   ],
   "source": [
    "adrian_insurance_cost = calculate_insurance_cost(22, 1, 27.1, 0, 0, 'Adrian')"
   ]
  },
  {
   "attachments": {},
   "cell_type": "markdown",
   "id": "edaecc70",
   "metadata": {},
   "source": [
    "Second function to calculate the difference between the insurance costs (given as inputs)"
   ]
  },
  {
   "cell_type": "code",
   "execution_count": 15,
   "id": "61e127bf",
   "metadata": {},
   "outputs": [],
   "source": [
    "def difference_between_insurances(first_insurance, second_insurance):\n",
    "    return first_insurance - second_insurance"
   ]
  },
  {
   "cell_type": "code",
   "execution_count": 16,
   "id": "75a50069",
   "metadata": {},
   "outputs": [
    {
     "data": {
      "text/plain": [
       "25437.0"
      ]
     },
     "execution_count": 16,
     "metadata": {},
     "output_type": "execute_result"
    }
   ],
   "source": [
    "difference_between_insurances(omar_insurance_cost, adrian_insurance_cost)"
   ]
  },
  {
   "cell_type": "code",
   "execution_count": 17,
   "id": "4967d79d",
   "metadata": {},
   "outputs": [
    {
     "data": {
      "text/plain": [
       "22867.0"
      ]
     },
     "execution_count": 17,
     "metadata": {},
     "output_type": "execute_result"
    }
   ],
   "source": [
    "difference_between_insurances(omar_insurance_cost, maria_insurance_cost)"
   ]
  },
  {
   "cell_type": "code",
   "execution_count": 18,
   "id": "e47b4728",
   "metadata": {},
   "outputs": [
    {
     "data": {
      "text/plain": [
       "2570.0"
      ]
     },
     "execution_count": 18,
     "metadata": {},
     "output_type": "execute_result"
    }
   ],
   "source": [
    "difference_between_insurances(maria_insurance_cost, adrian_insurance_cost)"
   ]
  },
  {
   "attachments": {},
   "cell_type": "markdown",
   "id": "139b883b",
   "metadata": {},
   "source": [
    "# Control flow part"
   ]
  },
  {
   "attachments": {},
   "cell_type": "markdown",
   "id": "3d0da126",
   "metadata": {},
   "source": [
    "In this part, I will examine how factors such as age, sex, BMI, number of children, and smoking status contribute to medical insurance costs."
   ]
  },
  {
   "cell_type": "code",
   "execution_count": 25,
   "id": "bce04642",
   "metadata": {},
   "outputs": [],
   "source": [
    "# Function to estimate insurance cost:\n",
    "def estimate_insurance_cost(name, age, sex, bmi, num_of_children, smoker):\n",
    "  estimated_cost = 250*age - 128*sex + 370*bmi + 425*num_of_children + 24000*smoker - 12500\n",
    "  print(name + \"'s Estimated Insurance Cost: \" + str(estimated_cost) + \" dollars.\")\n",
    "  analyze_smoker(smoker)\n",
    "  analyze_bmi(bmi)\n",
    "  return estimated_cost"
   ]
  },
  {
   "cell_type": "code",
   "execution_count": 20,
   "id": "be04ab42",
   "metadata": {},
   "outputs": [
    {
     "name": "stdout",
     "output_type": "stream",
     "text": [
      "Keanu's Estimated Insurance Cost: 29591.0 dollars.\n"
     ]
    }
   ],
   "source": [
    "keanu_insurance_cost = estimate_insurance_cost(name = 'Keanu', age = 29, sex = 1, bmi = 26.2, num_of_children = 3, smoker = 1)"
   ]
  },
  {
   "attachments": {},
   "cell_type": "markdown",
   "id": "149b7c07",
   "metadata": {},
   "source": [
    "Currently, our function prints out the estimated insurance cost based on the values passed into the function. But it doesn’t do much beyond that.\n",
    "\n",
    "It would be much more helpful if our function could provide more insight into how we can lower our insurance cost. We’ll learn to do exactly that by using control flow – `if`, `elif`, and `else` statements – in our code."
   ]
  },
  {
   "cell_type": "code",
   "execution_count": 22,
   "id": "2927c442",
   "metadata": {},
   "outputs": [],
   "source": [
    "# function for analyzing if person is smoking\n",
    "def analyze_smoker(smoker_status):\n",
    "    if smoker_status == 1:\n",
    "        print(\"To lower your cost, you should consider qutting smoking.\")\n",
    "    else:\n",
    "        print(\"Smoking is not an issue for you.\")\n"
   ]
  },
  {
   "cell_type": "code",
   "execution_count": 27,
   "id": "a3860d54",
   "metadata": {},
   "outputs": [],
   "source": [
    "# function for analyzing bmi\n",
    "def analyze_bmi(bmi_value):\n",
    "    if bmi_value > 30:\n",
    "        bmi_diff = bmi_value - 30\n",
    "        print(f\"Your BMI is in the obese range. To lower your cost, you should significantly lower your BMI by {bmi_diff}.\")\n",
    "    elif bmi_value >= 25 and bmi_value <= 30:\n",
    "        bmi_diff = bmi_value - 25\n",
    "        print(f\"Your BMI is in the overweight range. To lower your cost, you should lower your BMI by {bmi_diff}.\")\n",
    "    elif bmi_value >= 18.5 and bmi_value < 25:\n",
    "        print(\"Your BMI is in a healthy range.\")\n",
    "    elif bmi_value < 18.5:\n",
    "        bmi_diff = 18.5 - bmi_value\n",
    "        print(f\"Your BMI is in the underweight range. Increasing your BMI by {bmi_diff} will not help lower your cost, but it will help improve your health.\")"
   ]
  },
  {
   "cell_type": "code",
   "execution_count": 28,
   "id": "3ff3f2e0",
   "metadata": {},
   "outputs": [
    {
     "name": "stdout",
     "output_type": "stream",
     "text": [
      "Adrian's Estimated Insurance Cost: 2899.0 dollars.\n",
      "Smoking is not an issue for you.\n",
      "Your BMI is in the overweight range. To lower your cost, you should lower your BMI by 2.1000000000000014.\n"
     ]
    }
   ],
   "source": [
    "adrian_insurance_cost = estimate_insurance_cost(name='Adrian', age=22, sex=1, bmi=27.1, num_of_children=0, smoker=0)"
   ]
  },
  {
   "attachments": {},
   "cell_type": "markdown",
   "id": "1de6775c",
   "metadata": {},
   "source": [
    "# Lists part "
   ]
  },
  {
   "cell_type": "code",
   "execution_count": 29,
   "id": "15193212",
   "metadata": {},
   "outputs": [
    {
     "name": "stdout",
     "output_type": "stream",
     "text": [
      "Rohan's Estimated Insurance Cost: 5442.0 dollars.\n",
      "Smoking is not an issue for you.\n",
      "Your BMI is in the overweight range. To lower your cost, you should lower your BMI by 3.5.\n",
      "Valentina's Estimated Insurance Cost: 36368.0 dollars.\n",
      "To lower your cost, you should consider qutting smoking.\n",
      "Your BMI is in the obese range. To lower your cost, you should significantly lower your BMI by 1.3999999999999986.\n"
     ]
    }
   ],
   "source": [
    "# adding two more people\n",
    "\n",
    "rohan_insurance_cost = estimate_insurance_cost(name = \n",
    "\"Rohan\", age = 25, sex = 1, bmi = 28.5, num_of_children = 3, smoker = 0)\n",
    "\n",
    "valentina_insurance_cost = estimate_insurance_cost(name = \"Valentina\", age = 53, sex = 0, bmi = 31.4, num_of_children = 0, smoker = 1)"
   ]
  },
  {
   "cell_type": "code",
   "execution_count": 30,
   "id": "40d0503e",
   "metadata": {},
   "outputs": [],
   "source": [
    "names = ['Maria', 'Rohan', 'Valentina']"
   ]
  },
  {
   "cell_type": "code",
   "execution_count": 31,
   "id": "15aea916",
   "metadata": {},
   "outputs": [],
   "source": [
    "insurance_costs = [4150.0, 5320.0, 35210.0]"
   ]
  },
  {
   "cell_type": "code",
   "execution_count": 43,
   "id": "3031cd54",
   "metadata": {},
   "outputs": [
    {
     "name": "stdout",
     "output_type": "stream",
     "text": [
      "[('Maria', 4150.0), ('Rohan', 5320.0), ('Valentina', 35210.0)]\n"
     ]
    }
   ],
   "source": [
    "insurance_data = zip(names, insurance_costs)\n",
    "print(list(insurance_data))"
   ]
  },
  {
   "cell_type": "code",
   "execution_count": 44,
   "id": "37df2c4f",
   "metadata": {},
   "outputs": [
    {
     "name": "stdout",
     "output_type": "stream",
     "text": [
      "[('Maria', 5469.0), ('Rohan', 5442.0), ('Valentina', 36368.0)]\n"
     ]
    }
   ],
   "source": [
    "estimate_insurance_data = []\n",
    "estimate_insurance_data.append((\"Maria\", maria_insurance_cost))\n",
    "estimate_insurance_data.append((\"Rohan\", rohan_insurance_cost))\n",
    "estimate_insurance_data.append((\"Valentina\", valentina_insurance_cost))\n",
    "print(estimate_insurance_data)"
   ]
  },
  {
   "cell_type": "code",
   "execution_count": 49,
   "id": "79da74f8",
   "metadata": {},
   "outputs": [
    {
     "name": "stdout",
     "output_type": "stream",
     "text": [
      "Here is the actual insurance cost data: []\n"
     ]
    }
   ],
   "source": [
    "print(\"Here is the actual insurance cost data: \" + str(list(insurance_data)))"
   ]
  },
  {
   "cell_type": "code",
   "execution_count": 51,
   "id": "fb722c40",
   "metadata": {},
   "outputs": [
    {
     "name": "stdout",
     "output_type": "stream",
     "text": [
      "Here is the actual insurance cost data: [('Maria', 5469.0), ('Rohan', 5442.0), ('Valentina', 36368.0)]\n"
     ]
    }
   ],
   "source": [
    "print(\"Here is the actual insurance cost data: \" + str(estimate_insurance_data))"
   ]
  },
  {
   "attachments": {},
   "cell_type": "markdown",
   "id": "afe63743",
   "metadata": {},
   "source": [
    "# Next step! Working with Python Lists"
   ]
  },
  {
   "cell_type": "code",
   "execution_count": 52,
   "id": "79e65272",
   "metadata": {},
   "outputs": [],
   "source": [
    "names = [\"Mohamed\", \"Sara\", \"Xia\", \"Paul\", \"Valentina\", \"Jide\", \"Aaron\", \"Emily\", \"Nikita\", \"Paul\"]\n",
    "insurance_costs = [13262.0, 4816.0, 6839.0, 5054.0, 14724.0, 5360.0, 7640.0, 6072.0, 2750.0, 12064.0]"
   ]
  },
  {
   "cell_type": "code",
   "execution_count": 53,
   "id": "f535a24e",
   "metadata": {},
   "outputs": [],
   "source": [
    "names.append(\"Priscilla\")\n",
    "insurance_costs.append(8320.0)"
   ]
  },
  {
   "cell_type": "code",
   "execution_count": 62,
   "id": "aaef4fb2",
   "metadata": {},
   "outputs": [
    {
     "name": "stdout",
     "output_type": "stream",
     "text": [
      "[(13262.0, 'Mohamed'), (4816.0, 'Sara'), (6839.0, 'Xia'), (5054.0, 'Paul'), (14724.0, 'Valentina'), (5360.0, 'Jide'), (7640.0, 'Aaron'), (6072.0, 'Emily'), (2750.0, 'Nikita'), (12064.0, 'Paul'), (8320.0, 'Priscilla')]\n"
     ]
    }
   ],
   "source": [
    "medical_records = zip(insurance_costs, names)\n",
    "medical_records = list(medical_records)\n",
    "print(medical_records)"
   ]
  },
  {
   "cell_type": "code",
   "execution_count": 63,
   "id": "482d7701",
   "metadata": {},
   "outputs": [
    {
     "name": "stdout",
     "output_type": "stream",
     "text": [
      "There are 11 medical records.\n"
     ]
    }
   ],
   "source": [
    "num_medical_records = len(medical_records)\n",
    "print(f\"There are {num_medical_records} medical records.\")"
   ]
  },
  {
   "cell_type": "code",
   "execution_count": 65,
   "id": "065666a9",
   "metadata": {},
   "outputs": [
    {
     "name": "stdout",
     "output_type": "stream",
     "text": [
      "Here is the first medical record: (13262.0, 'Mohamed')\n"
     ]
    }
   ],
   "source": [
    "first_medical_record = medical_records[0]\n",
    "print(f\"Here is the first medical record: {first_medical_record}\")"
   ]
  },
  {
   "cell_type": "code",
   "execution_count": 66,
   "id": "8947d884",
   "metadata": {},
   "outputs": [
    {
     "name": "stdout",
     "output_type": "stream",
     "text": [
      "[(2750.0, 'Nikita'), (4816.0, 'Sara'), (5054.0, 'Paul'), (5360.0, 'Jide'), (6072.0, 'Emily'), (6839.0, 'Xia'), (7640.0, 'Aaron'), (8320.0, 'Priscilla'), (12064.0, 'Paul'), (13262.0, 'Mohamed'), (14724.0, 'Valentina')]\n"
     ]
    }
   ],
   "source": [
    "medical_records.sort()\n",
    "print(medical_records)"
   ]
  },
  {
   "cell_type": "code",
   "execution_count": 69,
   "id": "952799e8",
   "metadata": {},
   "outputs": [
    {
     "name": "stdout",
     "output_type": "stream",
     "text": [
      "Here are the three cheapest insurance costs in our medical records: [(2750.0, 'Nikita'), (4816.0, 'Sara'), (5054.0, 'Paul')]\n"
     ]
    }
   ],
   "source": [
    "cheapest_three = medical_records[:3]\n",
    "print(f\"Here are the three cheapest insurance costs in our medical records: {cheapest_three}\")"
   ]
  },
  {
   "cell_type": "code",
   "execution_count": 72,
   "id": "86ea31e0",
   "metadata": {},
   "outputs": [
    {
     "name": "stdout",
     "output_type": "stream",
     "text": [
      "Here are the three most expensive insurance costs in our medical records: [(12064.0, 'Paul'), (13262.0, 'Mohamed'), (14724.0, 'Valentina')]\n"
     ]
    }
   ],
   "source": [
    "priciest_three = medical_records[-3:]\n",
    "print(f\"Here are the three most expensive insurance costs in our medical records: {priciest_three}\")"
   ]
  },
  {
   "cell_type": "code",
   "execution_count": 74,
   "id": "fa02136d",
   "metadata": {},
   "outputs": [
    {
     "name": "stdout",
     "output_type": "stream",
     "text": [
      "There are 2 individuals with the name Paul in our medical records.\n"
     ]
    }
   ],
   "source": [
    "occurences_paul = names.count(\"Paul\")\n",
    "print(f\"There are {occurences_paul} individuals with the name Paul in our medical records.\")"
   ]
  },
  {
   "cell_type": "code",
   "execution_count": 78,
   "id": "777ca90c",
   "metadata": {},
   "outputs": [
    {
     "name": "stdout",
     "output_type": "stream",
     "text": [
      "[(5360.0, 'Jide'), (6072.0, 'Emily'), (6839.0, 'Xia'), (7640.0, 'Aaron'), (8320.0, 'Priscilla')]\n"
     ]
    }
   ],
   "source": [
    "middle_five_record = medical_records[3:8]\n",
    "print(middle_five_record)"
   ]
  },
  {
   "attachments": {},
   "cell_type": "markdown",
   "id": "61b140f7",
   "metadata": {},
   "source": [
    "# Python Loops"
   ]
  },
  {
   "attachments": {},
   "cell_type": "markdown",
   "id": "d4ab44da",
   "metadata": {},
   "source": [
    "In this part, I will use your new knowledge of Python loops to iterate through and analyze medical insurance cost data."
   ]
  },
  {
   "cell_type": "code",
   "execution_count": 79,
   "id": "7c8983d0",
   "metadata": {},
   "outputs": [],
   "source": [
    "names = [\"Judith\", \"Abel\", \"Tyson\", \"Martha\", \"Beverley\", \"David\", \"Anabel\"]\n",
    "estimated_insurance_costs = [1000.0, 2000.0, 3000.0, 4000.0, 5000.0, 6000.0, 7000.0]\n",
    "actual_insurance_costs = [1100.0, 2200.0, 3300.0, 4400.0, 5500.0, 6600.0, 7700.0]"
   ]
  },
  {
   "cell_type": "code",
   "execution_count": 80,
   "id": "db98cc44",
   "metadata": {},
   "outputs": [
    {
     "name": "stdout",
     "output_type": "stream",
     "text": [
      "30800.0\n"
     ]
    }
   ],
   "source": [
    "total_cost = 0\n",
    "for cost in actual_insurance_costs:\n",
    "    total_cost += cost\n",
    "\n",
    "print(total_cost)"
   ]
  },
  {
   "cell_type": "code",
   "execution_count": 84,
   "id": "2875385e",
   "metadata": {},
   "outputs": [
    {
     "name": "stdout",
     "output_type": "stream",
     "text": [
      "Average Insurance Cost: 4400.0 dollars.\n"
     ]
    }
   ],
   "source": [
    "average_cost = total_cost / len(actual_insurance_costs)\n",
    "print(f\"Average Insurance Cost: {average_cost} dollars.\")"
   ]
  },
  {
   "cell_type": "code",
   "execution_count": 88,
   "id": "80176637",
   "metadata": {},
   "outputs": [
    {
     "name": "stdout",
     "output_type": "stream",
     "text": [
      "The insurance cost for Judith is 1100.0 dollars.\n",
      "The insurance cost for Abel is 2200.0 dollars.\n",
      "The insurance cost for Tyson is 3300.0 dollars.\n",
      "The insurance cost for Martha is 4400.0 dollars.\n",
      "The insurance cost for Beverley is 5500.0 dollars.\n",
      "The insurance cost for David is 6600.0 dollars.\n",
      "The insurance cost for Anabel is 7700.0 dollars.\n"
     ]
    }
   ],
   "source": [
    "for i in range(len(names)):\n",
    "    name = names[i]\n",
    "    insurance_cost = actual_insurance_costs[i]\n",
    "    print(f\"The insurance cost for {name} is {insurance_cost} dollars.\")"
   ]
  },
  {
   "cell_type": "code",
   "execution_count": 96,
   "id": "6c4f59b7",
   "metadata": {},
   "outputs": [
    {
     "name": "stdout",
     "output_type": "stream",
     "text": [
      "The insurance cost for Judith is below average by 3300.0.\n",
      "The insurance cost for Abel is below average by 2200.0.\n",
      "The insurance cost for Tyson is below average by 1100.0.\n",
      "The insurance cost for Martha is equal to the average.\n",
      "The insurance cost for Beverley is above average by 1100.0.\n",
      "The insurance cost for David is above average by 2200.0.\n",
      "The insurance cost for Anabel is above average by 3300.0.\n"
     ]
    }
   ],
   "source": [
    "for i in range(len(names)):\n",
    "    name = names[i]\n",
    "    insurance_cost = actual_insurance_costs[i]\n",
    "    if insurance_cost > average_cost:\n",
    "        above = insurance_cost - average_cost\n",
    "        print(f\"The insurance cost for {name} is above average by {above}.\")\n",
    "    elif insurance_cost < average_cost:\n",
    "        below = average_cost - insurance_cost\n",
    "        print(f\"The insurance cost for {name} is below average by {below}.\")\n",
    "    elif insurance_cost == average_cost:\n",
    "        print(f\"The insurance cost for {name} is equal to the average.\")"
   ]
  },
  {
   "cell_type": "code",
   "execution_count": 94,
   "id": "d8be5fa2",
   "metadata": {},
   "outputs": [
    {
     "name": "stdout",
     "output_type": "stream",
     "text": [
      "[1100.0, 2200.0, 3300.0, 4400.0, 5500.0, 6600.0, 7700.0]\n"
     ]
    }
   ],
   "source": [
    "updated_estimated_costs = [estimated_cost * 11/10 for estimated_cost in estimated_insurance_costs]\n",
    "print(updated_estimated_costs)"
   ]
  },
  {
   "attachments": {},
   "cell_type": "markdown",
   "id": "1a7fd624",
   "metadata": {},
   "source": [
    "# Python Strings"
   ]
  },
  {
   "cell_type": "code",
   "execution_count": 1,
   "id": "c018b4fe",
   "metadata": {},
   "outputs": [
    {
     "name": "stdout",
     "output_type": "stream",
     "text": [
      "Marina Allison   ,27   ,   31.1 , \n",
      "#7010.0   ;Markus Valdez   ,   30, \n",
      "22.4,   #4050.0 ;Connie Ballard ,43 \n",
      ",   25.3 , #12060.0 ;Darnell Weber   \n",
      ",   35   , 20.6   , #7500.0;\n",
      "Sylvie Charles   ,22, 22.1 \n",
      ",#3022.0   ;   Vinay Padilla,24,   \n",
      "26.9 ,#4620.0 ;Meredith Santiago, 51   , \n",
      "29.3 ,#16330.0;   Andre Mccarty, \n",
      "19,22.7 , #2900.0 ; \n",
      "Lorena Hodson ,65, 33.1 , #19370.0; \n",
      "Isaac Vu ,34, 24.8,   #7045.0\n"
     ]
    }
   ],
   "source": [
    "medical_data = \\\n",
    "\"\"\"Marina Allison   ,27   ,   31.1 , \n",
    "#7010.0   ;Markus Valdez   ,   30, \n",
    "22.4,   #4050.0 ;Connie Ballard ,43 \n",
    ",   25.3 , #12060.0 ;Darnell Weber   \n",
    ",   35   , 20.6   , #7500.0;\n",
    "Sylvie Charles   ,22, 22.1 \n",
    ",#3022.0   ;   Vinay Padilla,24,   \n",
    "26.9 ,#4620.0 ;Meredith Santiago, 51   , \n",
    "29.3 ,#16330.0;   Andre Mccarty, \n",
    "19,22.7 , #2900.0 ; \n",
    "Lorena Hodson ,65, 33.1 , #19370.0; \n",
    "Isaac Vu ,34, 24.8,   #7045.0\"\"\"\n",
    "print(medical_data)"
   ]
  },
  {
   "cell_type": "code",
   "execution_count": 3,
   "id": "49703c26",
   "metadata": {},
   "outputs": [
    {
     "name": "stdout",
     "output_type": "stream",
     "text": [
      "Marina Allison   ,27   ,   31.1 , \n",
      "$7010.0   ;Markus Valdez   ,   30, \n",
      "22.4,   $4050.0 ;Connie Ballard ,43 \n",
      ",   25.3 , $12060.0 ;Darnell Weber   \n",
      ",   35   , 20.6   , $7500.0;\n",
      "Sylvie Charles   ,22, 22.1 \n",
      ",$3022.0   ;   Vinay Padilla,24,   \n",
      "26.9 ,$4620.0 ;Meredith Santiago, 51   , \n",
      "29.3 ,$16330.0;   Andre Mccarty, \n",
      "19,22.7 , $2900.0 ; \n",
      "Lorena Hodson ,65, 33.1 , $19370.0; \n",
      "Isaac Vu ,34, 24.8,   $7045.0\n"
     ]
    }
   ],
   "source": [
    "# get the $$$ \n",
    "updated_medical_data = medical_data.replace('#', '$')\n",
    "print(updated_medical_data)"
   ]
  },
  {
   "cell_type": "code",
   "execution_count": 7,
   "id": "42e2551e",
   "metadata": {},
   "outputs": [
    {
     "name": "stdout",
     "output_type": "stream",
     "text": [
      "There are 10 medical records in the data.\n"
     ]
    }
   ],
   "source": [
    "# calculate number of medical records\n",
    "num_records = 0\n",
    "\n",
    "for char in updated_medical_data:\n",
    "    if char == '$':\n",
    "        num_records += 1\n",
    "\n",
    "print(f\"There are {num_records} medical records in the data.\")"
   ]
  },
  {
   "cell_type": "code",
   "execution_count": 9,
   "id": "af9b9565",
   "metadata": {},
   "outputs": [
    {
     "name": "stdout",
     "output_type": "stream",
     "text": [
      "['Marina Allison   ,27   ,   31.1 , \\n$7010.0   ', 'Markus Valdez   ,   30, \\n22.4,   $4050.0 ', 'Connie Ballard ,43 \\n,   25.3 , $12060.0 ', 'Darnell Weber   \\n,   35   , 20.6   , $7500.0', '\\nSylvie Charles   ,22, 22.1 \\n,$3022.0   ', '   Vinay Padilla,24,   \\n26.9 ,$4620.0 ', 'Meredith Santiago, 51   , \\n29.3 ,$16330.0', '   Andre Mccarty, \\n19,22.7 , $2900.0 ', ' \\nLorena Hodson ,65, 33.1 , $19370.0', ' \\nIsaac Vu ,34, 24.8,   $7045.0']\n"
     ]
    }
   ],
   "source": [
    "# split each medical record \n",
    "medical_data_split = updated_medical_data.split(\";\")\n",
    "print(medical_data_split)"
   ]
  },
  {
   "cell_type": "code",
   "execution_count": 16,
   "id": "e5eef710",
   "metadata": {},
   "outputs": [
    {
     "name": "stdout",
     "output_type": "stream",
     "text": [
      "[['Marina Allison   ', '27   ', '   31.1 ', ' \\n$7010.0   '], ['Markus Valdez   ', '   30', ' \\n22.4', '   $4050.0 '], ['Connie Ballard ', '43 \\n', '   25.3 ', ' $12060.0 '], ['Darnell Weber   \\n', '   35   ', ' 20.6   ', ' $7500.0'], ['\\nSylvie Charles   ', '22', ' 22.1 \\n', '$3022.0   '], ['   Vinay Padilla', '24', '   \\n26.9 ', '$4620.0 '], ['Meredith Santiago', ' 51   ', ' \\n29.3 ', '$16330.0'], ['   Andre Mccarty', ' \\n19', '22.7 ', ' $2900.0 '], [' \\nLorena Hodson ', '65', ' 33.1 ', ' $19370.0'], [' \\nIsaac Vu ', '34', ' 24.8', '   $7045.0']]\n"
     ]
    }
   ],
   "source": [
    "# split each medical record into its own list\n",
    "medical_records = []\n",
    "\n",
    "for record in medical_data_split:\n",
    "    medical_records.append(record.split(\",\"))\n",
    "\n",
    "print(medical_records)"
   ]
  },
  {
   "cell_type": "code",
   "execution_count": 31,
   "id": "5065c97f",
   "metadata": {},
   "outputs": [
    {
     "name": "stdout",
     "output_type": "stream",
     "text": [
      "['MARINA ALLISON', '27', '31.1', '$7010.0']\n",
      "['CONNIE BALLARD', '43', '25.3', '$12060.0']\n",
      "['SYLVIE CHARLES', '22', '22.1', '$3022.0']\n"
     ]
    }
   ],
   "source": [
    "# removing whitespaces and upercasing names\n",
    "\n",
    "medical_records_clean = []\n",
    "\n",
    "for record in medical_records:\n",
    "    record_clean = []\n",
    "    for item in record:\n",
    "        record_clean.append(item.strip())\n",
    "    record[0] = record[0].upper()\n",
    "    medical_records_clean.append(record_clean)\n",
    "    \n",
    "\n",
    "print(medical_records_clean[0])\n",
    "print(medical_records_clean[2])\n",
    "print(medical_records_clean[4])\n"
   ]
  },
  {
   "cell_type": "code",
   "execution_count": 34,
   "id": "f33b8c8d",
   "metadata": {},
   "outputs": [],
   "source": [
    "# let's store each name, age, bmi and insurance in separate lists\n",
    "\n",
    "names = []\n",
    "ages = []\n",
    "bmis = []\n",
    "insurance_costs = []"
   ]
  },
  {
   "cell_type": "code",
   "execution_count": 35,
   "id": "bfc9fdbb",
   "metadata": {},
   "outputs": [],
   "source": [
    "for record in medical_records_clean:\n",
    "    names.append(record[0])\n",
    "    ages.append(record[1])\n",
    "    bmis.append(record[2])\n",
    "    insurance_costs.append(record[3])"
   ]
  },
  {
   "cell_type": "code",
   "execution_count": 37,
   "id": "c66e3c45",
   "metadata": {},
   "outputs": [
    {
     "name": "stdout",
     "output_type": "stream",
     "text": [
      "['MARINA ALLISON', 'MARKUS VALDEZ', 'CONNIE BALLARD', 'DARNELL WEBER', 'SYLVIE CHARLES', 'VINAY PADILLA', 'MEREDITH SANTIAGO', 'ANDRE MCCARTY', 'LORENA HODSON', 'ISAAC VU']\n",
      "['27', '30', '43', '35', '22', '24', '51', '19', '65', '34']\n",
      "['31.1', '22.4', '25.3', '20.6', '22.1', '26.9', '29.3', '22.7', '33.1', '24.8']\n",
      "['$7010.0', '$4050.0', '$12060.0', '$7500.0', '$3022.0', '$4620.0', '$16330.0', '$2900.0', '$19370.0', '$7045.0']\n"
     ]
    }
   ],
   "source": [
    "print(f\"{names}\\n{ages}\\n{bmis}\\n{insurance_costs}\")"
   ]
  },
  {
   "attachments": {},
   "cell_type": "markdown",
   "id": "1b45002c",
   "metadata": {},
   "source": [
    "Let's perform some analysis on that data"
   ]
  },
  {
   "cell_type": "code",
   "execution_count": 44,
   "id": "099c3e07",
   "metadata": {},
   "outputs": [
    {
     "name": "stdout",
     "output_type": "stream",
     "text": [
      "Average BMI: 25.830000000000002\n"
     ]
    }
   ],
   "source": [
    "# caluculating average BMI in our dataset\n",
    "total_bmi = 0\n",
    "\n",
    "for bmi in bmis:\n",
    "    total_bmi += float(bmi)\n",
    "\n",
    "average_bmi = total_bmi / float(len(bmis))\n",
    "\n",
    "print(f\"Average BMI: {average_bmi}\")"
   ]
  },
  {
   "cell_type": "code",
   "execution_count": 48,
   "id": "09759654",
   "metadata": {},
   "outputs": [
    {
     "name": "stdout",
     "output_type": "stream",
     "text": [
      "Average insurance cost: $8390.7\n"
     ]
    }
   ],
   "source": [
    "# calculating average insurance costs\n",
    "total_costs = 0\n",
    "for cost in insurance_costs:\n",
    "    cost = cost.replace(\"$\", \"\")\n",
    "    total_costs += float(cost)\n",
    "\n",
    "average_cost = total_costs / float(len(insurance_costs))\n",
    "\n",
    "print(f\"Average insurance cost: ${average_cost}\")"
   ]
  },
  {
   "cell_type": "code",
   "execution_count": 76,
   "id": "c9f10f44",
   "metadata": {},
   "outputs": [
    {
     "name": "stdout",
     "output_type": "stream",
     "text": [
      "Marina is 27 old with a BMI of 31.1 and an insuracne cost of $7010.0\n",
      "Markus is 30 old with a BMI of 22.4 and an insuracne cost of $4050.0\n",
      "Connie is 43 old with a BMI of 25.3 and an insuracne cost of $12060.0\n",
      "Darnell is 35 old with a BMI of 20.6 and an insuracne cost of $7500.0\n",
      "Sylvie is 22 old with a BMI of 22.1 and an insuracne cost of $3022.0\n",
      "Vinay is 24 old with a BMI of 26.9 and an insuracne cost of $4620.0\n",
      "Meredith is 51 old with a BMI of 29.3 and an insuracne cost of $16330.0\n",
      "Andre is 19 old with a BMI of 22.7 and an insuracne cost of $2900.0\n",
      "Lorena is 65 old with a BMI of 33.1 and an insuracne cost of $19370.0\n",
      "Isaac is 34 old with a BMI of 24.8 and an insuracne cost of $7045.0\n"
     ]
    }
   ],
   "source": [
    "for name, age, bmi, insurance_cost in zip(names, age, bmi, insurance_costs):\n",
    "    name = name.split(\" \")\n",
    "    name = name[0]\n",
    "    name = name.capitalize()\n",
    "    \n",
    "    print(f\"{name} is {age} old with a BMI of {bmi} and an insuracne cost of {insurance_cost}\")\n"
   ]
  }
 ],
 "metadata": {
  "kernelspec": {
   "display_name": "Python 3",
   "language": "python",
   "name": "python3"
  },
  "language_info": {
   "codemirror_mode": {
    "name": "ipython",
    "version": 3
   },
   "file_extension": ".py",
   "mimetype": "text/x-python",
   "name": "python",
   "nbconvert_exporter": "python",
   "pygments_lexer": "ipython3",
   "version": "3.10.6 (tags/v3.10.6:9c7b4bd, Aug  1 2022, 21:53:49) [MSC v.1932 64 bit (AMD64)]"
  },
  "vscode": {
   "interpreter": {
    "hash": "26de051ba29f2982a8de78e945f0abaf191376122a1563185a90213a26c5da77"
   }
  }
 },
 "nbformat": 4,
 "nbformat_minor": 5
}
